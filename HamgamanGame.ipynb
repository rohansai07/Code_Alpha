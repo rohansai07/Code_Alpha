{
  "nbformat": 4,
  "nbformat_minor": 0,
  "metadata": {
    "colab": {
      "provenance": [],
      "authorship_tag": "ABX9TyPv5PdoGFyx3uapqKdO9S4i",
      "include_colab_link": true
    },
    "kernelspec": {
      "name": "python3",
      "display_name": "Python 3"
    },
    "language_info": {
      "name": "python"
    }
  },
  "cells": [
    {
      "cell_type": "markdown",
      "metadata": {
        "id": "view-in-github",
        "colab_type": "text"
      },
      "source": [
        "<a href=\"https://colab.research.google.com/github/rohansai07/Code_Alpha/blob/main/HamgamanGame.ipynb\" target=\"_parent\"><img src=\"https://colab.research.google.com/assets/colab-badge.svg\" alt=\"Open In Colab\"/></a>"
      ]
    },
    {
      "cell_type": "code",
      "execution_count": null,
      "metadata": {
        "colab": {
          "base_uri": "https://localhost:8080/"
        },
        "id": "sRvrgwHS-IU-",
        "outputId": "c2e1ca30-354c-4694-fff8-090b05f84d66"
      },
      "outputs": [
        {
          "output_type": "stream",
          "name": "stdout",
          "text": [
            "Welcome to Hangman!\n",
            "\n",
            "Current state: _ _ _ _ _ _\n",
            "Guessed letters: \n",
            "Incorrect guesses left: 6\n",
            "Sorry, 'e' is not in the word.\n",
            "\n",
            "Current state: _ _ _ _ _ _\n",
            "Guessed letters: e\n",
            "Incorrect guesses left: 5\n",
            "Sorry, 'w' is not in the word.\n",
            "\n",
            "Current state: _ _ _ _ _ _\n",
            "Guessed letters: e, w\n",
            "Incorrect guesses left: 4\n",
            "Sorry, 'r' is not in the word.\n",
            "\n",
            "Current state: _ _ _ _ _ _\n",
            "Guessed letters: e, r, w\n",
            "Incorrect guesses left: 3\n",
            "Good job! 't' is in the word.\n",
            "\n",
            "Current state: _ _ t _ _ _\n",
            "Guessed letters: e, r, t, w\n",
            "Incorrect guesses left: 3\n",
            "Guess a letter: r\n",
            "You've already guessed 'r'. Try again.\n",
            "\n",
            "Current state: _ _ t _ _ _\n",
            "Guessed letters: e, r, t, w\n",
            "Incorrect guesses left: 3\n"
          ]
        }
      ],
      "source": [
        "import random\n",
        "\n",
        "def choose_word():\n",
        "    # List of words to choose from\n",
        "    words = ['python', 'development', 'hangman', 'challenge', 'programming']\n",
        "    return random.choice(words)\n",
        "\n",
        "def display_current_state(word, guessed_letters):\n",
        "    # Display the current state of the word with underscores for unguessed letters\n",
        "    return ' '.join([letter if letter in guessed_letters else '_' for letter in word])\n",
        "\n",
        "def hangman_game():\n",
        "    word = choose_word()  # Choose a random word\n",
        "    guessed_letters = set()\n",
        "    incorrect_guesses = 0\n",
        "    max_incorrect_guesses = 6\n",
        "\n",
        "    print(\"Welcome to Hangman!\")\n",
        "\n",
        "    while incorrect_guesses < max_incorrect_guesses:\n",
        "        # Display current state of the word\n",
        "        print(f\"\\nCurrent state: {display_current_state(word, guessed_letters)}\")\n",
        "        print(f\"Guessed letters: {', '.join(sorted(guessed_letters))}\")\n",
        "        print(f\"Incorrect guesses left: {max_incorrect_guesses - incorrect_guesses}\")\n",
        "\n",
        "        # Get user's guess\n",
        "        guess = input(\"Guess a letter: \").lower()\n",
        "\n",
        "        if len(guess) != 1 or not guess.isalpha():\n",
        "            print(\"Please enter a single letter.\")\n",
        "            continue\n",
        "\n",
        "        if guess in guessed_letters:\n",
        "            print(f\"You've already guessed '{guess}'. Try again.\")\n",
        "            continue\n",
        "\n",
        "        guessed_letters.add(guess)\n",
        "\n",
        "        if guess in word:\n",
        "            print(f\"Good job! '{guess}' is in the word.\")\n",
        "            if all(letter in guessed_letters for letter in word):\n",
        "                print(f\"Congratulations! You've guessed the word: {word}\")\n",
        "                break\n",
        "        else:\n",
        "            incorrect_guesses += 1\n",
        "            print(f\"Sorry, '{guess}' is not in the word.\")\n",
        "\n",
        "    if incorrect_guesses == max_incorrect_guesses:\n",
        "        print(f\"Game over! The word was: {word}\")\n",
        "hangman_game()"
      ]
    }
  ]
}