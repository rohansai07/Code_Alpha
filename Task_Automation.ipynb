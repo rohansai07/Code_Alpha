# Mount Google Drive
from google.colab import drive
drive.mount('/content/drive')

import os
import shutil

# Define the target directory
target_directory = '/content/drive/My Drive/MyFiles'  # Change this to your target directory path in Google Drive

# Define the file types and their corresponding folders
file_types = {
    'Documents': ['.pdf', '.docx', '.txt', '.xlsx'],
    'Images': ['.jpg', '.jpeg', '.png', '.gif'],
    'Videos': ['.mp4', '.avi', '.mov'],
    'Music': ['.mp3', '.wav'],
    'Archives': ['.zip', '.rar', '.tar.gz']
}

# Create folders if they don't exist
for folder in file_types.keys():
    folder_path = os.path.join(target_directory, folder)
    if not os.path.exists(folder_path):
        os.makedirs(folder_path)

# Move files to corresponding folders
for filename in os.listdir(target_directory):
    if os.path.isfile(os.path.join(target_directory, filename)):
        file_extension = os.path.splitext(filename)[1].lower()
        for folder, extensions in file_types.items():
            if file_extension in extensions:
                shutil.move(os.path.join(target_directory, filename), os.path.join(target_directory, folder, filename))
                break

print("Files have been organized successfully.")
