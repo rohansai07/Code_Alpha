{
  "nbformat": 4,
  "nbformat_minor": 0,
  "metadata": {
    "colab": {
      "provenance": [],
      "authorship_tag": "ABX9TyMIVKfnJ5LmfAUFcfFXdC/H",
      "include_colab_link": true
    },
    "kernelspec": {
      "name": "python3",
      "display_name": "Python 3"
    },
    "language_info": {
      "name": "python"
    }
  },
  "cells": [
    {
      "cell_type": "markdown",
      "metadata": {
        "id": "view-in-github",
        "colab_type": "text"
      },
      "source": [
        "<a href=\"https://colab.research.google.com/github/rohansai07/Code_Alpha/blob/main/Task_Automation.ipynb\" target=\"_parent\"><img src=\"https://colab.research.google.com/assets/colab-badge.svg\" alt=\"Open In Colab\"/></a>"
      ]
    },
    {
      "cell_type": "code",
      "source": [
        "# Mount Google Drive\n",
        "from google.colab import drive\n",
        "drive.mount('/content/drive')\n",
        "\n",
        "import os\n",
        "import shutil\n",
        "\n",
        "# Define the target directory\n",
        "target_directory = '/content/drive/My Drive/MyFiles'  # Change this to your target directory path in Google Drive\n",
        "\n",
        "# Define the file types and their corresponding folders\n",
        "file_types = {\n",
        "    'Documents': ['.pdf', '.docx', '.txt', '.xlsx'],\n",
        "    'Images': ['.jpg', '.jpeg', '.png', '.gif'],\n",
        "    'Videos': ['.mp4', '.avi', '.mov'],\n",
        "    'Music': ['.mp3', '.wav'],\n",
        "    'Archives': ['.zip', '.rar', '.tar.gz']\n",
        "}\n",
        "\n",
        "# Create folders if they don't exist\n",
        "for folder in file_types.keys():\n",
        "    folder_path = os.path.join(target_directory, folder)\n",
        "    if not os.path.exists(folder_path):\n",
        "        os.makedirs(folder_path)\n",
        "\n",
        "# Move files to corresponding folders\n",
        "for filename in os.listdir(target_directory):\n",
        "    if os.path.isfile(os.path.join(target_directory, filename)):\n",
        "        file_extension = os.path.splitext(filename)[1].lower()\n",
        "        for folder, extensions in file_types.items():\n",
        "            if file_extension in extensions:\n",
        "                shutil.move(os.path.join(target_directory, filename), os.path.join(target_directory, folder, filename))\n",
        "                break\n",
        "\n",
        "print(\"Files have been organized successfully.\")"
      ],
      "metadata": {
        "colab": {
          "base_uri": "https://localhost:8080/"
        },
        "id": "OrQh53RWTzK1",
        "outputId": "ca03b8fa-7682-4aa9-de96-39dcebb23d2e"
      },
      "execution_count": 25,
      "outputs": [
        {
          "output_type": "stream",
          "name": "stdout",
          "text": [
            "Drive already mounted at /content/drive; to attempt to forcibly remount, call drive.mount(\"/content/drive\", force_remount=True).\n",
            "Files have been organized successfully.\n"
          ]
        }
      ]
    }
  ]
}